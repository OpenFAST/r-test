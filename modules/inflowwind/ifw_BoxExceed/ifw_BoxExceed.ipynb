{
 "cells": [
  {
   "cell_type": "code",
   "execution_count": null,
   "metadata": {},
   "outputs": [],
   "source": [
    "import numpy as np\n",
    "import plotly.graph_objects as go\n",
    "\n",
    "hh = 110        # Hub height\n",
    "gw = 125        # Grid width\n",
    "gh = 125        # Grid height\n",
    "\n",
    "data = np.genfromtxt('ifw_BoxExceed.WindGrid.out', skip_header=20)\n",
    "\n",
    "ys = np.unique(data[:, 1])\n",
    "zs = np.unique(data[:, 2])\n",
    "\n",
    "shape = [-1, zs.size, ys.size]\n",
    "\n",
    "y = data[:, 1].reshape(shape)[0]\n",
    "z = data[:, 2].reshape(shape)[0]\n",
    "u = data[:, 3].reshape(shape)[0]\n",
    "\n",
    "ug = np.array([[u.min(), u.min()], [u.max(), u.max()]])\n",
    "\n",
    "ygs = np.ones((2, 2)) * gw/2\n",
    "zgs = np.array([[-gh/2, gh/2], [-gh/2, gh/2]]) + hh\n",
    "\n",
    "yt = np.zeros((2, 2))\n",
    "zt = np.array([[0, 1], [0, 1]]) * (hh-gh/2)\n",
    "\n",
    "surfaces = [\n",
    "    go.Surface(x=y, y=z, z=u, showscale=False),\n",
    "    go.Surface(x=ygs, y=zgs, z=ug, showscale=False, opacity=0.2,\n",
    "                colorscale=([0, \"blue\"], [1, \"blue\"])),\n",
    "    go.Surface(x=-ygs, y=zgs, z=ug, showscale=False, opacity=0.2,\n",
    "                colorscale=([0, \"blue\"], [1, \"blue\"])),\n",
    "]\n",
    "\n",
    "fig = go.Figure(data=surfaces)\n",
    "\n",
    "fig.update_layout(title=\"Flow Field\",\n",
    "                    autosize=False, width=600, height=600,\n",
    "                    scene=dict(xaxis_title=\"Y (m)\",\n",
    "                                yaxis_title=\"Z (m)\",\n",
    "                                zaxis_title=\"U (m/s)\"))\n",
    "\n",
    "fig.show(config={'toImageButtonOptions': {\n",
    "    'format': 'png',  # one of png, svg, jpeg, webp\n",
    "    'filename': 'custom_image',\n",
    "    'height': 800,\n",
    "    'width': 800,\n",
    "    'scale': 6  # Multiply title/legend/axis/canvas sizes by this factor\n",
    "}})\n"
   ]
  }
 ],
 "metadata": {
  "kernelspec": {
   "display_name": "Python 3",
   "language": "python",
   "name": "python3"
  },
  "language_info": {
   "codemirror_mode": {
    "name": "ipython",
    "version": 3
   },
   "file_extension": ".py",
   "mimetype": "text/x-python",
   "name": "python",
   "nbconvert_exporter": "python",
   "pygments_lexer": "ipython3",
   "version": "3.10.9"
  },
  "orig_nbformat": 4
 },
 "nbformat": 4,
 "nbformat_minor": 2
}
